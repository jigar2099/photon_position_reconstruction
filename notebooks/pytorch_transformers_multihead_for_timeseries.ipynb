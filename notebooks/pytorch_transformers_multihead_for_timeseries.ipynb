{
 "cells": [
  {
   "cell_type": "code",
   "execution_count": 1,
   "id": "17bedf45",
   "metadata": {
    "ExecuteTime": {
     "end_time": "2024-01-05T14:42:13.651816Z",
     "start_time": "2024-01-05T14:42:05.635793Z"
    }
   },
   "outputs": [],
   "source": [
    "import numpy as np\n",
    "import pandas as pd\n",
    "import torch\n",
    "import torch.nn as nn\n",
    "from torch.utils.data import DataLoader, TensorDataset\n",
    "from sklearn.preprocessing import StandardScaler\n",
    "from torch.optim.lr_scheduler import ReduceLROnPlateau\n",
    "#torch.cuda.empty_cache()"
   ]
  },
  {
   "cell_type": "code",
   "execution_count": 2,
   "id": "993dbf93",
   "metadata": {
    "ExecuteTime": {
     "end_time": "2024-01-05T14:42:14.969044Z",
     "start_time": "2024-01-05T14:42:13.661576Z"
    }
   },
   "outputs": [
    {
     "name": "stdout",
     "output_type": "stream",
     "text": [
      "Using device: cuda\n"
     ]
    },
    {
     "name": "stderr",
     "output_type": "stream",
     "text": [
      "C:\\Users\\jigar\\AppData\\Local\\Temp\\ipykernel_8616\\763796151.py:5: UserWarning: 'has_mps' is deprecated, please use 'torch.backends.mps.is_built()'\n",
      "  if getattr(torch, \"has_mps\", False)\n"
     ]
    }
   ],
   "source": [
    "import torch\n",
    "\n",
    "device = (\n",
    "    \"mps\"\n",
    "    if getattr(torch, \"has_mps\", False)\n",
    "    else \"cuda\"\n",
    "    if torch.cuda.is_available()\n",
    "    else \"cpu\"\n",
    ")\n",
    "print(f\"Using device: {device}\")"
   ]
  },
  {
   "cell_type": "code",
   "execution_count": 3,
   "id": "af89f60a",
   "metadata": {
    "ExecuteTime": {
     "end_time": "2024-01-05T14:42:14.984607Z",
     "start_time": "2024-01-05T14:42:14.978921Z"
    }
   },
   "outputs": [
    {
     "data": {
      "text/plain": [
       "True"
      ]
     },
     "execution_count": 3,
     "metadata": {},
     "output_type": "execute_result"
    }
   ],
   "source": [
    "torch.cuda.is_available()"
   ]
  },
  {
   "cell_type": "code",
   "execution_count": 4,
   "id": "ebf4e96f",
   "metadata": {
    "ExecuteTime": {
     "end_time": "2024-01-05T14:42:15.001942Z",
     "start_time": "2024-01-05T14:42:14.996818Z"
    }
   },
   "outputs": [
    {
     "data": {
      "text/plain": [
       "1"
      ]
     },
     "execution_count": 4,
     "metadata": {},
     "output_type": "execute_result"
    }
   ],
   "source": [
    "torch.cuda.device_count()"
   ]
  },
  {
   "cell_type": "code",
   "execution_count": 5,
   "id": "1b27a023",
   "metadata": {
    "ExecuteTime": {
     "end_time": "2024-01-05T14:42:15.018925Z",
     "start_time": "2024-01-05T14:42:15.013127Z"
    }
   },
   "outputs": [
    {
     "data": {
      "text/plain": [
       "0"
      ]
     },
     "execution_count": 5,
     "metadata": {},
     "output_type": "execute_result"
    }
   ],
   "source": [
    "torch.cuda.current_device()"
   ]
  },
  {
   "cell_type": "code",
   "execution_count": 6,
   "id": "f9d3057d",
   "metadata": {
    "ExecuteTime": {
     "end_time": "2024-01-05T14:42:15.032361Z",
     "start_time": "2024-01-05T14:42:15.028478Z"
    }
   },
   "outputs": [
    {
     "name": "stdout",
     "output_type": "stream",
     "text": [
      "Using device: cuda\n",
      "\n"
     ]
    }
   ],
   "source": [
    "# setting device on GPU if available, else CPU\n",
    "device = torch.device('cuda' if torch.cuda.is_available() else 'cpu')\n",
    "print('Using device:', device)\n",
    "print()"
   ]
  },
  {
   "cell_type": "code",
   "execution_count": 7,
   "id": "58898d5b",
   "metadata": {
    "ExecuteTime": {
     "end_time": "2024-01-05T14:42:15.046035Z",
     "start_time": "2024-01-05T14:42:15.041822Z"
    }
   },
   "outputs": [
    {
     "data": {
      "text/plain": [
       "'NVIDIA GeForce RTX 3050 Ti Laptop GPU'"
      ]
     },
     "execution_count": 7,
     "metadata": {},
     "output_type": "execute_result"
    }
   ],
   "source": [
    "torch.cuda.get_device_name(0)"
   ]
  },
  {
   "cell_type": "code",
   "execution_count": null,
   "id": "fcb9da34",
   "metadata": {},
   "outputs": [],
   "source": []
  },
  {
   "cell_type": "code",
   "execution_count": 8,
   "id": "7a0c072c",
   "metadata": {
    "ExecuteTime": {
     "end_time": "2024-01-05T14:42:23.808913Z",
     "start_time": "2024-01-05T14:42:15.055793Z"
    }
   },
   "outputs": [],
   "source": [
    "folder_name = 'sh06x2'\n",
    "train_exe = 1920\n",
    "\n",
    "train_x = np.load(f'../DATASETS/{folder_name}/lab_ch0_shapes_train_x_m_{train_exe}.npy')[:768000]\n",
    "train_x = train_x.reshape(train_x.shape[0], train_x.shape[1],1)\n",
    "train_y = np.load(f'../DATASETS/{folder_name}/lab_ch0_shapes_train_y_m_{train_exe}.npy')[:768000]\n",
    "\n",
    "#(1000/(1.6*256))*400\n",
    "#379800-(200*633)\n",
    "#976 mhz:768000 and 253200\n",
    "\n",
    "val_x = np.load(f'../DATASETS/{folder_name}/lab_ch0_shapes_val_x_m_{train_exe}.npy')[:253200]\n",
    "val_x = val_x.reshape(val_x.shape[0], val_x.shape[1],1)\n",
    "val_y = np.load(f'../DATASETS/{folder_name}/lab_ch0_shapes_val_y_m_{train_exe}.npy')[:253200]"
   ]
  },
  {
   "cell_type": "code",
   "execution_count": 9,
   "id": "2ab07a8b",
   "metadata": {
    "ExecuteTime": {
     "end_time": "2024-01-05T14:42:23.829565Z",
     "start_time": "2024-01-05T14:42:23.826050Z"
    }
   },
   "outputs": [
    {
     "name": "stdout",
     "output_type": "stream",
     "text": [
      "(1152000, 256, 1) (768000, 256)\n",
      "(253200, 256, 1) (253200, 256)\n"
     ]
    }
   ],
   "source": [
    "print(train_x.shape,train_y.shape)\n",
    "print(val_x.shape, val_y.shape)"
   ]
  },
  {
   "cell_type": "code",
   "execution_count": 8,
   "id": "d5ede2ad",
   "metadata": {
    "ExecuteTime": {
     "end_time": "2024-01-04T20:23:39.665264Z",
     "start_time": "2024-01-04T20:23:39.661264Z"
    }
   },
   "outputs": [
    {
     "data": {
      "text/plain": [
       "633.0"
      ]
     },
     "execution_count": 8,
     "metadata": {},
     "output_type": "execute_result"
    }
   ],
   "source": [
    "379800/600"
   ]
  },
  {
   "cell_type": "code",
   "execution_count": 9,
   "id": "3a2a616f",
   "metadata": {
    "ExecuteTime": {
     "end_time": "2024-01-04T20:23:39.847774Z",
     "start_time": "2024-01-04T20:23:39.843884Z"
    }
   },
   "outputs": [
    {
     "data": {
      "text/plain": [
       "976.5625"
      ]
     },
     "execution_count": 9,
     "metadata": {},
     "output_type": "execute_result"
    }
   ],
   "source": [
    "(1000/(1.6*256))*400"
   ]
  },
  {
   "cell_type": "code",
   "execution_count": 10,
   "id": "13102c0e",
   "metadata": {
    "ExecuteTime": {
     "end_time": "2024-01-04T20:23:40.017966Z",
     "start_time": "2024-01-04T20:23:40.014007Z"
    }
   },
   "outputs": [
    {
     "data": {
      "text/plain": [
       "253200"
      ]
     },
     "execution_count": 10,
     "metadata": {},
     "output_type": "execute_result"
    }
   ],
   "source": [
    "379800-(200*633)"
   ]
  },
  {
   "cell_type": "code",
   "execution_count": null,
   "id": "0e6376e5",
   "metadata": {},
   "outputs": [],
   "source": []
  },
  {
   "cell_type": "code",
   "execution_count": 11,
   "id": "330ce0dc",
   "metadata": {
    "ExecuteTime": {
     "end_time": "2024-01-04T20:23:40.961745Z",
     "start_time": "2024-01-04T20:23:40.190288Z"
    }
   },
   "outputs": [],
   "source": [
    "train_x = torch.tensor(train_x, dtype=torch.float32)\n",
    "train_y = torch.tensor(train_y, dtype=torch.float32)\n",
    "\n",
    "val_x = torch.tensor(val_x, dtype=torch.float32)\n",
    "val_y = torch.tensor(val_y, dtype=torch.float32)"
   ]
  },
  {
   "cell_type": "code",
   "execution_count": 12,
   "id": "394556b5",
   "metadata": {
    "ExecuteTime": {
     "end_time": "2024-01-04T20:23:41.245946Z",
     "start_time": "2024-01-04T20:23:41.242524Z"
    }
   },
   "outputs": [
    {
     "name": "stdout",
     "output_type": "stream",
     "text": [
      "torch.Size([768000, 256, 1]) torch.Size([768000, 256])\n",
      "torch.Size([253200, 256, 1]) torch.Size([253200, 256])\n"
     ]
    }
   ],
   "source": [
    "print(train_x.shape, train_y.shape)\n",
    "print(val_x.shape, val_y.shape)"
   ]
  },
  {
   "cell_type": "code",
   "execution_count": 13,
   "id": "b70e848b",
   "metadata": {
    "ExecuteTime": {
     "end_time": "2024-01-04T20:23:41.514818Z",
     "start_time": "2024-01-04T20:23:41.511169Z"
    }
   },
   "outputs": [],
   "source": [
    "# Setup data loaders for batch\n",
    "train_dataset = TensorDataset(train_x, train_y)\n",
    "train_loader = DataLoader(train_dataset, batch_size=256, shuffle=True)\n",
    "\n",
    "val_dataset = TensorDataset(val_x, val_y)\n",
    "val_loader = DataLoader(val_dataset, batch_size=256, shuffle=False)"
   ]
  },
  {
   "cell_type": "code",
   "execution_count": 14,
   "id": "c7a9bf83",
   "metadata": {
    "ExecuteTime": {
     "end_time": "2024-01-04T20:23:41.788682Z",
     "start_time": "2024-01-04T20:23:41.783647Z"
    }
   },
   "outputs": [],
   "source": [
    "# Positional Encoding for Transformer\n",
    "class PositionalEncoding(nn.Module):\n",
    "    #def __init__(self, d_model, dropout=0.1, max_len=5000):\n",
    "    def __init__(self, d_model, dropout=0.0, max_len=5000):\n",
    "        super(PositionalEncoding, self).__init__()\n",
    "        self.dropout = nn.Dropout(p=dropout)\n",
    "\n",
    "        pe = torch.zeros(max_len, d_model)\n",
    "        position = torch.arange(0, max_len, dtype=torch.float).unsqueeze(1)\n",
    "        div_term = torch.exp(torch.arange(0, d_model, 2).float() * (-np.log(10000.0) / d_model))\n",
    "        pe[:, 0::2] = torch.sin(position * div_term)\n",
    "        pe[:, 1::2] = torch.cos(position * div_term)\n",
    "        pe = pe.unsqueeze(0).transpose(0, 1)\n",
    "        self.register_buffer('pe', pe)\n",
    "\n",
    "    def forward(self, x):\n",
    "        x = x + self.pe[:x.size(0), :]\n",
    "        return self.dropout(x)"
   ]
  },
  {
   "cell_type": "code",
   "execution_count": 15,
   "id": "1f4ae1be",
   "metadata": {
    "ExecuteTime": {
     "end_time": "2024-01-04T20:23:42.496866Z",
     "start_time": "2024-01-04T20:23:42.042816Z"
    }
   },
   "outputs": [
    {
     "name": "stderr",
     "output_type": "stream",
     "text": [
      "C:\\Users\\jigar\\anaconda3\\Lib\\site-packages\\torch\\nn\\modules\\transformer.py:282: UserWarning: enable_nested_tensor is True, but self.use_nested_tensor is False because encoder_layer.self_attn.batch_first was not True(use batch_first for better inference performance)\n",
      "  warnings.warn(f\"enable_nested_tensor is True, but self.use_nested_tensor is False because {why_not_sparsity_fast_path}\")\n"
     ]
    },
    {
     "name": "stdout",
     "output_type": "stream",
     "text": [
      "Total Parameters: 579072\n"
     ]
    }
   ],
   "source": [
    "# Model definition using Transformer\n",
    "class TransformerModel(nn.Module):\n",
    "    def __init__(self, input_dim=1, d_model=64, nhead=2, num_layers=2, dropout=0.1):\n",
    "        super(TransformerModel, self).__init__()\n",
    "\n",
    "        self.encoder = nn.Linear(input_dim, d_model)\n",
    "        self.pos_encoder = PositionalEncoding(d_model, dropout)\n",
    "        encoder_layers = nn.TransformerEncoderLayer(d_model, nhead)\n",
    "        self.transformer_encoder = nn.TransformerEncoder(encoder_layers, num_layers)\n",
    "        self.decoder = nn.Linear(d_model, 256)\n",
    "        self.relu = nn.ReLU()\n",
    "\n",
    "    def forward(self, x):\n",
    "        x = self.encoder(x)\n",
    "        #print(f\"encoder : {x.shape}\")\n",
    "        x = self.pos_encoder(x)\n",
    "        #print(f\"position encoder : {x.shape}\")\n",
    "        x = self.transformer_encoder(x)\n",
    "        #print(f\"transformer encoder : {x.shape}\")\n",
    "        x = self.decoder(x[:, -1, :])\n",
    "        x = self.relu(x)\n",
    "        #print(f\"decoder : {x.shape}\")\n",
    "        return x\n",
    "\n",
    "model = TransformerModel().to(device)\n",
    "output = model(torch.randn(1,256,1).to(device))\n",
    "total_params = sum(p.numel() for p in model.parameters())\n",
    "print(f'Total Parameters: {total_params}')"
   ]
  },
  {
   "cell_type": "code",
   "execution_count": 16,
   "id": "a6e6290e",
   "metadata": {
    "ExecuteTime": {
     "end_time": "2024-01-04T20:23:52.135797Z",
     "start_time": "2024-01-04T20:23:52.132325Z"
    }
   },
   "outputs": [],
   "source": [
    "# # Access parameters layer-by-layer\n",
    "# for name, param in model.named_parameters():\n",
    "#     print(f'Layer: {name}, Size: {param.size()}')"
   ]
  },
  {
   "cell_type": "code",
   "execution_count": 17,
   "id": "3b96bada",
   "metadata": {
    "ExecuteTime": {
     "end_time": "2024-01-04T20:23:52.642342Z",
     "start_time": "2024-01-04T20:23:52.639695Z"
    },
    "scrolled": true
   },
   "outputs": [],
   "source": [
    "# from torchviz import make_dot\n",
    "# x = torch.zeros(1, 256, 1, dtype=torch.float, requires_grad=False).to(device)\n",
    "# out = model(x)\n",
    "# make_dot(out)  # plot graph of variable, not of a nn.Module"
   ]
  },
  {
   "cell_type": "code",
   "execution_count": null,
   "id": "cc39bfcd",
   "metadata": {
    "ExecuteTime": {
     "start_time": "2024-01-04T10:33:32.394Z"
    }
   },
   "outputs": [],
   "source": []
  },
  {
   "cell_type": "code",
   "execution_count": null,
   "id": "9f2dab3a",
   "metadata": {},
   "outputs": [],
   "source": []
  },
  {
   "cell_type": "code",
   "execution_count": null,
   "id": "0ee2060e",
   "metadata": {
    "ExecuteTime": {
     "end_time": "2024-01-04T10:36:14.350549Z",
     "start_time": "2024-01-04T10:36:14.347986Z"
    }
   },
   "outputs": [],
   "source": []
  },
  {
   "cell_type": "code",
   "execution_count": 18,
   "id": "e0535fed",
   "metadata": {
    "ExecuteTime": {
     "end_time": "2024-01-04T23:00:13.612283Z",
     "start_time": "2024-01-04T20:23:54.222547Z"
    }
   },
   "outputs": [
    {
     "name": "stderr",
     "output_type": "stream",
     "text": [
      "Train : 100%|██████████████████████████████████████████████████████████████████████| 3000/3000 [10:56<00:00,  4.57it/s]\n",
      " Val : 100%|█████████████████████████████████████████████████████████████████████████| 990/990 [01:08<00:00, 14.38it/s]\n"
     ]
    },
    {
     "name": "stdout",
     "output_type": "stream",
     "text": [
      "Epoch 1/100, Loss: 0.8551, Val Loss: 0.9694\n"
     ]
    },
    {
     "name": "stderr",
     "output_type": "stream",
     "text": [
      "Train : 100%|██████████████████████████████████████████████████████████████████████| 3000/3000 [11:02<00:00,  4.53it/s]\n",
      " Val : 100%|█████████████████████████████████████████████████████████████████████████| 990/990 [01:09<00:00, 14.21it/s]\n"
     ]
    },
    {
     "name": "stdout",
     "output_type": "stream",
     "text": [
      "Epoch 2/100, Loss: 0.8453, Val Loss: 0.9768\n"
     ]
    },
    {
     "name": "stderr",
     "output_type": "stream",
     "text": [
      "Train : 100%|██████████████████████████████████████████████████████████████████████| 3000/3000 [11:04<00:00,  4.51it/s]\n",
      " Val : 100%|█████████████████████████████████████████████████████████████████████████| 990/990 [01:09<00:00, 14.17it/s]\n"
     ]
    },
    {
     "name": "stdout",
     "output_type": "stream",
     "text": [
      "Epoch 3/100, Loss: 0.8413, Val Loss: 0.8800\n"
     ]
    },
    {
     "name": "stderr",
     "output_type": "stream",
     "text": [
      "Train : 100%|██████████████████████████████████████████████████████████████████████| 3000/3000 [11:05<00:00,  4.51it/s]\n",
      " Val : 100%|█████████████████████████████████████████████████████████████████████████| 990/990 [01:09<00:00, 14.18it/s]\n"
     ]
    },
    {
     "name": "stdout",
     "output_type": "stream",
     "text": [
      "Epoch 4/100, Loss: 0.8352, Val Loss: 0.8638\n"
     ]
    },
    {
     "name": "stderr",
     "output_type": "stream",
     "text": [
      "Train : 100%|██████████████████████████████████████████████████████████████████████| 3000/3000 [11:05<00:00,  4.51it/s]\n",
      " Val : 100%|█████████████████████████████████████████████████████████████████████████| 990/990 [01:09<00:00, 14.18it/s]\n"
     ]
    },
    {
     "name": "stdout",
     "output_type": "stream",
     "text": [
      "Epoch 5/100, Loss: 0.8344, Val Loss: 0.8542\n"
     ]
    },
    {
     "name": "stderr",
     "output_type": "stream",
     "text": [
      "Train : 100%|██████████████████████████████████████████████████████████████████████| 3000/3000 [11:05<00:00,  4.51it/s]\n",
      " Val : 100%|█████████████████████████████████████████████████████████████████████████| 990/990 [01:09<00:00, 14.18it/s]\n"
     ]
    },
    {
     "name": "stdout",
     "output_type": "stream",
     "text": [
      "Epoch 6/100, Loss: 0.8342, Val Loss: 0.8428\n"
     ]
    },
    {
     "name": "stderr",
     "output_type": "stream",
     "text": [
      "Train : 100%|██████████████████████████████████████████████████████████████████████| 3000/3000 [11:05<00:00,  4.51it/s]\n",
      " Val : 100%|█████████████████████████████████████████████████████████████████████████| 990/990 [01:09<00:00, 14.14it/s]\n"
     ]
    },
    {
     "name": "stdout",
     "output_type": "stream",
     "text": [
      "Epoch 7/100, Loss: 0.8346, Val Loss: 0.8468\n"
     ]
    },
    {
     "name": "stderr",
     "output_type": "stream",
     "text": [
      "Train : 100%|██████████████████████████████████████████████████████████████████████| 3000/3000 [11:05<00:00,  4.51it/s]\n",
      " Val : 100%|█████████████████████████████████████████████████████████████████████████| 990/990 [01:09<00:00, 14.20it/s]\n"
     ]
    },
    {
     "name": "stdout",
     "output_type": "stream",
     "text": [
      "Epoch 8/100, Loss: 0.8341, Val Loss: 0.8473\n"
     ]
    },
    {
     "name": "stderr",
     "output_type": "stream",
     "text": [
      "Train : 100%|██████████████████████████████████████████████████████████████████████| 3000/3000 [11:08<00:00,  4.48it/s]\n",
      " Val : 100%|█████████████████████████████████████████████████████████████████████████| 990/990 [01:55<00:00,  8.57it/s]\n"
     ]
    },
    {
     "name": "stdout",
     "output_type": "stream",
     "text": [
      "Epoch 9/100, Loss: 0.8340, Val Loss: 0.8486\n"
     ]
    },
    {
     "name": "stderr",
     "output_type": "stream",
     "text": [
      "Train : 100%|██████████████████████████████████████████████████████████████████████| 3000/3000 [14:12<00:00,  3.52it/s]\n",
      " Val : 100%|█████████████████████████████████████████████████████████████████████████| 990/990 [01:44<00:00,  9.48it/s]\n"
     ]
    },
    {
     "name": "stdout",
     "output_type": "stream",
     "text": [
      "Epoch 10/100, Loss: 0.8340, Val Loss: 0.8396\n"
     ]
    },
    {
     "name": "stderr",
     "output_type": "stream",
     "text": [
      "Train : 100%|██████████████████████████████████████████████████████████████████████| 3000/3000 [14:17<00:00,  3.50it/s]\n",
      " Val : 100%|█████████████████████████████████████████████████████████████████████████| 990/990 [01:07<00:00, 14.57it/s]\n"
     ]
    },
    {
     "name": "stdout",
     "output_type": "stream",
     "text": [
      "Epoch 11/100, Loss: 0.8339, Val Loss: 0.8487\n"
     ]
    },
    {
     "name": "stderr",
     "output_type": "stream",
     "text": [
      "Train : 100%|██████████████████████████████████████████████████████████████████████| 3000/3000 [11:02<00:00,  4.53it/s]\n",
      " Val : 100%|█████████████████████████████████████████████████████████████████████████| 990/990 [01:09<00:00, 14.14it/s]\n"
     ]
    },
    {
     "name": "stdout",
     "output_type": "stream",
     "text": [
      "Epoch 12/100, Loss: 0.8338, Val Loss: 0.8448\n"
     ]
    },
    {
     "name": "stderr",
     "output_type": "stream",
     "text": [
      "Train :  16%|███████████▌                                                           | 488/3000 [01:48<09:19,  4.49it/s]\n"
     ]
    },
    {
     "ename": "KeyboardInterrupt",
     "evalue": "",
     "output_type": "error",
     "traceback": [
      "\u001b[1;31m---------------------------------------------------------------------------\u001b[0m",
      "\u001b[1;31mKeyboardInterrupt\u001b[0m                         Traceback (most recent call last)",
      "Cell \u001b[1;32mIn[18], line 22\u001b[0m\n\u001b[0;32m     20\u001b[0m     loss \u001b[38;5;241m=\u001b[39m criterion(outputs, y_batch)\n\u001b[0;32m     21\u001b[0m     train_losses\u001b[38;5;241m.\u001b[39mappend(loss\u001b[38;5;241m.\u001b[39mitem())\n\u001b[1;32m---> 22\u001b[0m     loss\u001b[38;5;241m.\u001b[39mbackward()\n\u001b[0;32m     23\u001b[0m     optimizer\u001b[38;5;241m.\u001b[39mstep()\n\u001b[0;32m     25\u001b[0m \u001b[38;5;66;03m# Validation\u001b[39;00m\n",
      "File \u001b[1;32m~\\anaconda3\\Lib\\site-packages\\torch\\_tensor.py:492\u001b[0m, in \u001b[0;36mTensor.backward\u001b[1;34m(self, gradient, retain_graph, create_graph, inputs)\u001b[0m\n\u001b[0;32m    482\u001b[0m \u001b[38;5;28;01mif\u001b[39;00m has_torch_function_unary(\u001b[38;5;28mself\u001b[39m):\n\u001b[0;32m    483\u001b[0m     \u001b[38;5;28;01mreturn\u001b[39;00m handle_torch_function(\n\u001b[0;32m    484\u001b[0m         Tensor\u001b[38;5;241m.\u001b[39mbackward,\n\u001b[0;32m    485\u001b[0m         (\u001b[38;5;28mself\u001b[39m,),\n\u001b[1;32m   (...)\u001b[0m\n\u001b[0;32m    490\u001b[0m         inputs\u001b[38;5;241m=\u001b[39minputs,\n\u001b[0;32m    491\u001b[0m     )\n\u001b[1;32m--> 492\u001b[0m torch\u001b[38;5;241m.\u001b[39mautograd\u001b[38;5;241m.\u001b[39mbackward(\n\u001b[0;32m    493\u001b[0m     \u001b[38;5;28mself\u001b[39m, gradient, retain_graph, create_graph, inputs\u001b[38;5;241m=\u001b[39minputs\n\u001b[0;32m    494\u001b[0m )\n",
      "File \u001b[1;32m~\\anaconda3\\Lib\\site-packages\\torch\\autograd\\__init__.py:251\u001b[0m, in \u001b[0;36mbackward\u001b[1;34m(tensors, grad_tensors, retain_graph, create_graph, grad_variables, inputs)\u001b[0m\n\u001b[0;32m    246\u001b[0m     retain_graph \u001b[38;5;241m=\u001b[39m create_graph\n\u001b[0;32m    248\u001b[0m \u001b[38;5;66;03m# The reason we repeat the same comment below is that\u001b[39;00m\n\u001b[0;32m    249\u001b[0m \u001b[38;5;66;03m# some Python versions print out the first line of a multi-line function\u001b[39;00m\n\u001b[0;32m    250\u001b[0m \u001b[38;5;66;03m# calls in the traceback and some print out the last line\u001b[39;00m\n\u001b[1;32m--> 251\u001b[0m Variable\u001b[38;5;241m.\u001b[39m_execution_engine\u001b[38;5;241m.\u001b[39mrun_backward(  \u001b[38;5;66;03m# Calls into the C++ engine to run the backward pass\u001b[39;00m\n\u001b[0;32m    252\u001b[0m     tensors,\n\u001b[0;32m    253\u001b[0m     grad_tensors_,\n\u001b[0;32m    254\u001b[0m     retain_graph,\n\u001b[0;32m    255\u001b[0m     create_graph,\n\u001b[0;32m    256\u001b[0m     inputs,\n\u001b[0;32m    257\u001b[0m     allow_unreachable\u001b[38;5;241m=\u001b[39m\u001b[38;5;28;01mTrue\u001b[39;00m,\n\u001b[0;32m    258\u001b[0m     accumulate_grad\u001b[38;5;241m=\u001b[39m\u001b[38;5;28;01mTrue\u001b[39;00m,\n\u001b[0;32m    259\u001b[0m )\n",
      "\u001b[1;31mKeyboardInterrupt\u001b[0m: "
     ]
    }
   ],
   "source": [
    "from tqdm import tqdm\n",
    "# Train the model\n",
    "criterion = nn.MSELoss()\n",
    "optimizer = torch.optim.Adam(model.parameters(), lr=0.001)\n",
    "scheduler = ReduceLROnPlateau(optimizer, 'min', factor=0.5, patience=3, verbose=True)\n",
    "\n",
    "epochs = 100\n",
    "early_stop_count = 0\n",
    "min_val_loss = float('inf')\n",
    "\n",
    "for epoch in range(epochs):\n",
    "    model.train()\n",
    "    train_losses = []\n",
    "    for batch in tqdm(train_loader, desc='Train : '):\n",
    "        x_batch, y_batch = batch\n",
    "        x_batch, y_batch = x_batch.to(device), y_batch.to(device)\n",
    "\n",
    "        optimizer.zero_grad()\n",
    "        outputs = model(x_batch)\n",
    "        loss = criterion(outputs, y_batch)\n",
    "        train_losses.append(loss.item())\n",
    "        loss.backward()\n",
    "        optimizer.step()\n",
    "\n",
    "    # Validation\n",
    "    model.eval()\n",
    "    val_losses = []\n",
    "    with torch.no_grad():\n",
    "        for batch in tqdm(val_loader, desc=' Val : '):\n",
    "            x_batch, y_batch = batch\n",
    "            x_batch, y_batch = x_batch.to(device), y_batch.to(device)\n",
    "            outputs = model(x_batch)\n",
    "            loss = criterion(outputs, y_batch)\n",
    "            val_losses.append(loss.item())\n",
    "\n",
    "    val_loss = np.mean(val_losses)\n",
    "    train_loss = np.mean(train_losses)\n",
    "    scheduler.step(val_loss)\n",
    "\n",
    "    if val_loss < min_val_loss:\n",
    "        min_val_loss = val_loss\n",
    "        early_stop_count = 0\n",
    "    else:\n",
    "        early_stop_count += 1\n",
    "\n",
    "    if early_stop_count >= 5:\n",
    "        print(\"Early stopping!\")\n",
    "        break\n",
    "    print(f\"Epoch {epoch + 1}/{epochs}, Loss: {train_loss:.4f}, Val Loss: {val_loss:.4f}\")"
   ]
  },
  {
   "cell_type": "code",
   "execution_count": null,
   "id": "6e55ef59",
   "metadata": {},
   "outputs": [],
   "source": []
  },
  {
   "cell_type": "code",
   "execution_count": null,
   "id": "84073d29",
   "metadata": {
    "ExecuteTime": {
     "end_time": "2024-01-03T23:58:54.629597Z",
     "start_time": "2024-01-03T23:58:54.616348Z"
    }
   },
   "outputs": [],
   "source": []
  },
  {
   "cell_type": "code",
   "execution_count": null,
   "id": "d1b3acca",
   "metadata": {
    "ExecuteTime": {
     "end_time": "2024-01-03T23:59:09.228188Z",
     "start_time": "2024-01-03T23:59:09.085812Z"
    }
   },
   "outputs": [],
   "source": []
  },
  {
   "cell_type": "code",
   "execution_count": null,
   "id": "172205f2",
   "metadata": {
    "ExecuteTime": {
     "end_time": "2024-01-04T00:00:06.791514Z",
     "start_time": "2024-01-04T00:00:06.788365Z"
    }
   },
   "outputs": [],
   "source": []
  },
  {
   "cell_type": "code",
   "execution_count": null,
   "id": "6d91482e",
   "metadata": {
    "ExecuteTime": {
     "end_time": "2024-01-04T00:00:24.260948Z",
     "start_time": "2024-01-04T00:00:24.256174Z"
    }
   },
   "outputs": [],
   "source": []
  },
  {
   "cell_type": "code",
   "execution_count": null,
   "id": "36006394",
   "metadata": {
    "ExecuteTime": {
     "end_time": "2024-01-04T00:03:52.088250Z",
     "start_time": "2024-01-04T00:03:52.063595Z"
    }
   },
   "outputs": [],
   "source": []
  },
  {
   "cell_type": "code",
   "execution_count": null,
   "id": "0f50ede8",
   "metadata": {},
   "outputs": [],
   "source": []
  }
 ],
 "metadata": {
  "kernelspec": {
   "display_name": "Python 3 (ipykernel)",
   "language": "python",
   "name": "python3"
  },
  "language_info": {
   "codemirror_mode": {
    "name": "ipython",
    "version": 3
   },
   "file_extension": ".py",
   "mimetype": "text/x-python",
   "name": "python",
   "nbconvert_exporter": "python",
   "pygments_lexer": "ipython3",
   "version": "3.11.5"
  },
  "toc": {
   "base_numbering": 1,
   "nav_menu": {},
   "number_sections": true,
   "sideBar": true,
   "skip_h1_title": false,
   "title_cell": "Table of Contents",
   "title_sidebar": "Contents",
   "toc_cell": false,
   "toc_position": {},
   "toc_section_display": true,
   "toc_window_display": false
  },
  "varInspector": {
   "cols": {
    "lenName": 16,
    "lenType": 16,
    "lenVar": 40
   },
   "kernels_config": {
    "python": {
     "delete_cmd_postfix": "",
     "delete_cmd_prefix": "del ",
     "library": "var_list.py",
     "varRefreshCmd": "print(var_dic_list())"
    },
    "r": {
     "delete_cmd_postfix": ") ",
     "delete_cmd_prefix": "rm(",
     "library": "var_list.r",
     "varRefreshCmd": "cat(var_dic_list()) "
    }
   },
   "types_to_exclude": [
    "module",
    "function",
    "builtin_function_or_method",
    "instance",
    "_Feature"
   ],
   "window_display": false
  }
 },
 "nbformat": 4,
 "nbformat_minor": 5
}

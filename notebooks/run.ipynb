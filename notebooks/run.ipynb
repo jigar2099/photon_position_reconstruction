{
 "cells": [
  {
   "cell_type": "code",
   "execution_count": 2,
   "id": "06a19111",
   "metadata": {
    "ExecuteTime": {
     "end_time": "2023-04-29T17:46:56.939110Z",
     "start_time": "2023-04-29T17:46:56.919998Z"
    }
   },
   "outputs": [
    {
     "data": {
      "text/html": [
       "<style>.container { width:100% !important; }</style>"
      ],
      "text/plain": [
       "<IPython.core.display.HTML object>"
      ]
     },
     "metadata": {},
     "output_type": "display_data"
    }
   ],
   "source": [
    "from IPython.display import display, HTML\n",
    "display(HTML(\"<style>.container { width:100% !important; }</style>\"))\n",
    "import numpy as np\n",
    "import pandas as pd\n",
    "import matplotlib.pyplot as plt\n",
    "import tensorflow as tf\n",
    "from tensorflow import keras\n",
    "import numpy as np\n",
    "from keras import backend as K\n",
    "\n",
    "import sys\n",
    "sys.path.append(\"..\")\n",
    "from src.model_architectures.unet_models import MODELS\n",
    "import glob"
   ]
  },
  {
   "cell_type": "code",
   "execution_count": 4,
   "id": "03e25d76",
   "metadata": {
    "ExecuteTime": {
     "end_time": "2023-04-29T17:48:14.181687Z",
     "start_time": "2023-04-29T17:48:14.136768Z"
    }
   },
   "outputs": [
    {
     "name": "stdout",
     "output_type": "stream",
     "text": [
      "(3000, 256) (960, 256) (960, 256)\n",
      "(3000, 256) (960, 256) (960, 256)\n"
     ]
    }
   ],
   "source": [
    "folder_name = 'sh06x2'\n",
    "train_exe = 50\n",
    "train_x = np.load(f'../DATASETS/{folder_name}/lab_ch0_shapes_train_x_m_{train_exe}.npy')\n",
    "train_y = np.load(f'../DATASETS/{folder_name}/lab_ch0_shapes_train_y_m_{train_exe}.npy')\n",
    "\n",
    "val_x = np.load(f'../DATASETS/{folder_name}/lab_ch0_shapes_val_x_m_{train_exe}.npy')\n",
    "val_y = np.load(f'../DATASETS/{folder_name}/lab_ch0_shapes_val_y_m_{train_exe}.npy')\n",
    "\n",
    "test_x = np.load(f'../DATASETS/{folder_name}/lab_ch0_shapes_test_x_m_{train_exe}.npy')\n",
    "test_y = np.load(f'../DATASETS/{folder_name}/lab_ch0_shapes_test_y_m_{train_exe}.npy')\n",
    "\n",
    "print(train_x.shape,val_x.shape,test_x.shape)\n",
    "print(train_y.shape,val_y.shape,test_y.shape)"
   ]
  },
  {
   "cell_type": "code",
   "execution_count": 7,
   "id": "15b5c3ac",
   "metadata": {
    "ExecuteTime": {
     "end_time": "2023-04-29T17:52:13.406984Z",
     "start_time": "2023-04-29T17:52:04.968342Z"
    },
    "scrolled": true
   },
   "outputs": [
    {
     "name": "stdout",
     "output_type": "stream",
     "text": [
      "layer output: (None, 256, 1)\n",
      "Model: \"model_1\"\n",
      "__________________________________________________________________________________________________\n",
      " Layer (type)                   Output Shape         Param #     Connected to                     \n",
      "==================================================================================================\n",
      " input_2 (InputLayer)           [(None, 256, 1)]     0           []                               \n",
      "                                                                                                  \n",
      " conv1d_19 (Conv1D)             (None, 256, 10)      40          ['input_2[0][0]']                \n",
      "                                                                                                  \n",
      " conv1d_20 (Conv1D)             (None, 256, 10)      310         ['conv1d_19[0][0]']              \n",
      "                                                                                                  \n",
      " max_pooling1d_5 (MaxPooling1D)  (None, 128, 10)     0           ['conv1d_20[0][0]']              \n",
      "                                                                                                  \n",
      " conv1d_21 (Conv1D)             (None, 128, 20)      620         ['max_pooling1d_5[0][0]']        \n",
      "                                                                                                  \n",
      " dropout_7 (Dropout)            (None, 128, 20)      0           ['conv1d_21[0][0]']              \n",
      "                                                                                                  \n",
      " conv1d_22 (Conv1D)             (None, 128, 20)      1220        ['dropout_7[0][0]']              \n",
      "                                                                                                  \n",
      " max_pooling1d_6 (MaxPooling1D)  (None, 64, 20)      0           ['conv1d_22[0][0]']              \n",
      "                                                                                                  \n",
      " conv1d_23 (Conv1D)             (None, 64, 40)       2440        ['max_pooling1d_6[0][0]']        \n",
      "                                                                                                  \n",
      " dropout_8 (Dropout)            (None, 64, 40)       0           ['conv1d_23[0][0]']              \n",
      "                                                                                                  \n",
      " conv1d_24 (Conv1D)             (None, 64, 40)       4840        ['dropout_8[0][0]']              \n",
      "                                                                                                  \n",
      " max_pooling1d_7 (MaxPooling1D)  (None, 32, 40)      0           ['conv1d_24[0][0]']              \n",
      "                                                                                                  \n",
      " conv1d_25 (Conv1D)             (None, 32, 80)       9680        ['max_pooling1d_7[0][0]']        \n",
      "                                                                                                  \n",
      " dropout_9 (Dropout)            (None, 32, 80)       0           ['conv1d_25[0][0]']              \n",
      "                                                                                                  \n",
      " conv1d_26 (Conv1D)             (None, 32, 80)       19280       ['dropout_9[0][0]']              \n",
      "                                                                                                  \n",
      " max_pooling1d_8 (MaxPooling1D)  (None, 16, 80)      0           ['conv1d_26[0][0]']              \n",
      "                                                                                                  \n",
      " conv1d_27 (Conv1D)             (None, 16, 160)      38560       ['max_pooling1d_8[0][0]']        \n",
      "                                                                                                  \n",
      " dropout_10 (Dropout)           (None, 16, 160)      0           ['conv1d_27[0][0]']              \n",
      "                                                                                                  \n",
      " conv1d_28 (Conv1D)             (None, 16, 160)      76960       ['dropout_10[0][0]']             \n",
      "                                                                                                  \n",
      " conv1d_transpose_4 (Conv1DTran  (None, 32, 80)      25680       ['conv1d_28[0][0]']              \n",
      " spose)                                                                                           \n",
      "                                                                                                  \n",
      " concatenate_4 (Concatenate)    (None, 32, 160)      0           ['conv1d_transpose_4[0][0]',     \n",
      "                                                                  'conv1d_26[0][0]']              \n",
      "                                                                                                  \n",
      " conv1d_30 (Conv1D)             (None, 32, 80)       38480       ['concatenate_4[0][0]']          \n",
      "                                                                                                  \n",
      " conv1d_transpose_5 (Conv1DTran  (None, 64, 40)      6440        ['conv1d_30[0][0]']              \n",
      " spose)                                                                                           \n",
      "                                                                                                  \n",
      " concatenate_5 (Concatenate)    (None, 64, 80)       0           ['conv1d_transpose_5[0][0]',     \n",
      "                                                                  'conv1d_24[0][0]']              \n",
      "                                                                                                  \n",
      " conv1d_32 (Conv1D)             (None, 64, 40)       9640        ['concatenate_5[0][0]']          \n",
      "                                                                                                  \n",
      " conv1d_transpose_6 (Conv1DTran  (None, 128, 20)     1620        ['conv1d_32[0][0]']              \n",
      " spose)                                                                                           \n",
      "                                                                                                  \n",
      " concatenate_6 (Concatenate)    (None, 128, 40)      0           ['conv1d_transpose_6[0][0]',     \n",
      "                                                                  'conv1d_22[0][0]']              \n",
      "                                                                                                  \n",
      " conv1d_34 (Conv1D)             (None, 128, 20)      2420        ['concatenate_6[0][0]']          \n",
      "                                                                                                  \n",
      " conv1d_transpose_7 (Conv1DTran  (None, 256, 10)     410         ['conv1d_34[0][0]']              \n",
      " spose)                                                                                           \n",
      "                                                                                                  \n",
      " concatenate_7 (Concatenate)    (None, 256, 20)      0           ['conv1d_transpose_7[0][0]',     \n",
      "                                                                  'conv1d_20[0][0]']              \n",
      "                                                                                                  \n",
      " conv1d_36 (Conv1D)             (None, 256, 10)      610         ['concatenate_7[0][0]']          \n",
      "                                                                                                  \n",
      " conv1d_37 (Conv1D)             (None, 256, 1)       11          ['conv1d_36[0][0]']              \n",
      "                                                                                                  \n",
      "==================================================================================================\n",
      "Total params: 239,261\n",
      "Trainable params: 239,261\n",
      "Non-trainable params: 0\n",
      "__________________________________________________________________________________________________\n",
      "Epoch 1/10\n",
      "11/12 [==========================>...] - ETA: 0s - loss: 21.5038 - mae: 2.5014\n",
      "Epoch 1: val_loss improved from inf to 12.03969, saving model to ../models/sh06x2\\Unet10_sh06x2_ch0__256_m_1280_mse_lr_1e-4_10_DROPOUT0.h5\n",
      "12/12 [==============================] - 4s 87ms/step - loss: 20.9587 - mae: 2.4651 - val_loss: 12.0397 - val_mae: 1.8428\n",
      "Epoch 2/10\n",
      "12/12 [==============================] - ETA: 0s - loss: 8.2819 - mae: 1.4886\n",
      "Epoch 2: val_loss improved from 12.03969 to 5.04611, saving model to ../models/sh06x2\\Unet10_sh06x2_ch0__256_m_1280_mse_lr_1e-4_10_DROPOUT0.h5\n"
     ]
    },
    {
     "name": "stdout",
     "output_type": "stream",
     "text": [
      "12/12 [==============================] - 0s 33ms/step - loss: 8.2819 - mae: 1.4886 - val_loss: 5.0461 - val_mae: 1.1531\n",
      "Epoch 3/10\n",
      "12/12 [==============================] - ETA: 0s - loss: 3.6465 - mae: 0.9646\n",
      "Epoch 3: val_loss improved from 5.04611 to 2.45735, saving model to ../models/sh06x2\\Unet10_sh06x2_ch0__256_m_1280_mse_lr_1e-4_10_DROPOUT0.h5\n",
      "12/12 [==============================] - 0s 36ms/step - loss: 3.6465 - mae: 0.9646 - val_loss: 2.4574 - val_mae: 0.7886\n",
      "Epoch 4/10\n",
      "10/12 [========================>.....] - ETA: 0s - loss: 1.9670 - mae: 0.6963\n",
      "Epoch 4: val_loss improved from 2.45735 to 1.40546, saving model to ../models/sh06x2\\Unet10_sh06x2_ch0__256_m_1280_mse_lr_1e-4_10_DROPOUT0.h5\n",
      "12/12 [==============================] - 0s 32ms/step - loss: 1.8948 - mae: 0.6814 - val_loss: 1.4055 - val_mae: 0.5822\n",
      "Epoch 5/10\n",
      "10/12 [========================>.....] - ETA: 0s - loss: 1.1718 - mae: 0.5241\n",
      "Epoch 5: val_loss improved from 1.40546 to 0.90738, saving model to ../models/sh06x2\\Unet10_sh06x2_ch0__256_m_1280_mse_lr_1e-4_10_DROPOUT0.h5\n",
      "12/12 [==============================] - 0s 30ms/step - loss: 1.1429 - mae: 0.5169 - val_loss: 0.9074 - val_mae: 0.4561\n",
      "Epoch 6/10\n",
      "12/12 [==============================] - ETA: 0s - loss: 0.7629 - mae: 0.4123\n",
      "Epoch 6: val_loss improved from 0.90738 to 0.62944, saving model to ../models/sh06x2\\Unet10_sh06x2_ch0__256_m_1280_mse_lr_1e-4_10_DROPOUT0.h5\n",
      "12/12 [==============================] - 0s 34ms/step - loss: 0.7629 - mae: 0.4123 - val_loss: 0.6294 - val_mae: 0.3710\n",
      "Epoch 7/10\n",
      "10/12 [========================>.....] - ETA: 0s - loss: 0.5549 - mae: 0.3436\n",
      "Epoch 7: val_loss improved from 0.62944 to 0.46444, saving model to ../models/sh06x2\\Unet10_sh06x2_ch0__256_m_1280_mse_lr_1e-4_10_DROPOUT0.h5\n",
      "12/12 [==============================] - 0s 32ms/step - loss: 0.5439 - mae: 0.3395 - val_loss: 0.4644 - val_mae: 0.3097\n",
      "Epoch 8/10\n",
      "10/12 [========================>.....] - ETA: 0s - loss: 0.4182 - mae: 0.2890\n",
      "Epoch 8: val_loss improved from 0.46444 to 0.36142, saving model to ../models/sh06x2\\Unet10_sh06x2_ch0__256_m_1280_mse_lr_1e-4_10_DROPOUT0.h5\n",
      "12/12 [==============================] - 0s 30ms/step - loss: 0.4112 - mae: 0.2863 - val_loss: 0.3614 - val_mae: 0.2646\n",
      "Epoch 9/10\n",
      "10/12 [========================>.....] - ETA: 0s - loss: 0.3302 - mae: 0.2486\n",
      "Epoch 9: val_loss improved from 0.36142 to 0.29486, saving model to ../models/sh06x2\\Unet10_sh06x2_ch0__256_m_1280_mse_lr_1e-4_10_DROPOUT0.h5\n",
      "12/12 [==============================] - 0s 31ms/step - loss: 0.3272 - mae: 0.2466 - val_loss: 0.2949 - val_mae: 0.2306\n",
      "Epoch 10/10\n",
      "10/12 [========================>.....] - ETA: 0s - loss: 0.2784 - mae: 0.2202\n",
      "Epoch 10: val_loss improved from 0.29486 to 0.25123, saving model to ../models/sh06x2\\Unet10_sh06x2_ch0__256_m_1280_mse_lr_1e-4_10_DROPOUT0.h5\n",
      "12/12 [==============================] - 0s 32ms/step - loss: 0.2730 - mae: 0.2172 - val_loss: 0.2512 - val_mae: 0.2053\n"
     ]
    }
   ],
   "source": [
    "bins = 256\n",
    "channel = 1\n",
    "loss_func = 'mse'\n",
    "lr = '1e-4'\n",
    "opt = tf.keras.optimizers.Nadam(learning_rate=float(lr))\n",
    "metric = 'mae'\n",
    "reg = '0'\n",
    "filt_lst = [64,128,256,512]\n",
    "dns = 256\n",
    "drop = '0'\n",
    "batch_size = 256#\n",
    "\n",
    "ep=10\n",
    "\n",
    "# vgg16, unet, resUnet, att_resUnet, unet++\n",
    "get_model = MODELS()\n",
    "model_type=\"Unet10\"\n",
    "\n",
    "if model_type==\"attention_resunet\":\n",
    "    FILTER_NUM = 16\n",
    "    FILTER_SIZE = 3\n",
    "    NUM_CLASSES = 1\n",
    "    dropout_rate = 0.2\n",
    "    batch_norm = False\n",
    "    model = get_model.Attention_ResUNet(bins,channel,loss_func,opt,metric,FILTER_NUM=FILTER_NUM,batch_norm = False, dropout_rate = float(drop))\n",
    "elif model_type==\"unetpp\":\n",
    "    nb_filter = [16, 32, 64, 128, 256]\n",
    "    deep_supervision = False\n",
    "    model = get_model.Nest_Net(bins,channel,loss_func,opt,metric,nb_filter=nb_filter,deep_supervision=deep_supervision)\n",
    "elif model_type==\"Unet10\":\n",
    "    filt_num = 10\n",
    "    model = get_model.UNET(bins, channel, loss_func, opt, metric, float(reg), filt_num)\n",
    "elif model_type==\"vgg16\":\n",
    "    model = get_model.VGG16(filt_lst,dns,bins,channel,loss_func,opt,metric)\n",
    "elif model_type==\"resUnet\":\n",
    "    model = get_model.resUnet(bins, channel, loss_func, opt, metric, float(reg))\n",
    "elif model_type==\"unetPP48163264\":\n",
    "    nb_filter = [4,8,16,32,64]\n",
    "    filters = [4,8,16,32,64]\n",
    "    model = get_model.unetPP(bins,channel,loss_func,opt,metric,float(reg), nb_filter, filters)\n",
    "\n",
    "\n",
    "\n",
    "if len(train_x.shape)<3:\n",
    "    train_X = train_x.reshape(train_x.shape[0],train_x.shape[1],1)\n",
    "    val_X = val_x.reshape(val_x.shape[0],val_x.shape[1],1)\n",
    "    test_X = test_x.reshape(test_x.shape[0],test_x.shape[1],1)\n",
    "    \n",
    "    train_y = train_y.reshape(train_y.shape[0],train_y.shape[1],1)\n",
    "    val_y = val_y.reshape(val_y.shape[0],val_y.shape[1],1)\n",
    "    test_y = test_y.reshape(test_y.shape[0],test_y.shape[1],1)\n",
    "\n",
    "folder_name = 'sh06x2'\n",
    "chnl = 'ch0'\n",
    "callback = tf.keras.callbacks.EarlyStopping(monitor='loss', patience=5, verbose=1)\n",
    "mc = tf.keras.callbacks.ModelCheckpoint(f'../models/{folder_name}/{model_type}_{folder_name}_{chnl}__256_m_1280_{loss_func}_lr_{lr}_{ep}_DROPOUT{reg}.h5',\n",
    "                                       monitor='val_loss', model='min', verbose=1, save_best_only=True)\n",
    "\n",
    "\n",
    "history=model.fit(train_X[:],train_y[:],\n",
    "                batch_size=batch_size,epochs=ep,\n",
    "                validation_data=(val_X[:],val_y[:]),shuffle=True, callbacks=[callback, mc])"
   ]
  },
  {
   "cell_type": "code",
   "execution_count": 14,
   "id": "3a9c96aa",
   "metadata": {
    "ExecuteTime": {
     "end_time": "2023-04-29T17:57:36.505267Z",
     "start_time": "2023-04-29T17:57:36.487186Z"
    }
   },
   "outputs": [],
   "source": [
    "np.save(f'../model_performance/{folder_name}/loss_{model_type}_{folder_name}_{chnl}__256_m_1280_{loss_func}_lr_{lr}_{ep}_DROPOUT{reg}.npy',\n",
    "       history.history['loss'])\n",
    "np.save(f'../model_performance/{folder_name}/val_loss_{model_type}_{folder_name}_{chnl}__256_m_1280_{loss_func}_lr_{lr}_{ep}_DROPOUT{reg}.npy',\n",
    "       history.history['val_loss'])\n",
    "\n",
    "np.save(f'../model_performance/{folder_name}/mae_{model_type}_{folder_name}_{chnl}__256_m_1280_{loss_func}_lr_{lr}_{ep}_DROPOUT{reg}.npy',\n",
    "       history.history['mae'])\n",
    "np.save(f'../model_performance/{folder_name}/val_mae_{model_type}_{folder_name}_{chnl}__256_m_1280_{loss_func}_lr_{lr}_{ep}_DROPOUT{reg}.npy',\n",
    "       history.history['val_mae'])"
   ]
  },
  {
   "cell_type": "code",
   "execution_count": 12,
   "id": "53824128",
   "metadata": {
    "ExecuteTime": {
     "end_time": "2023-04-29T17:56:03.360297Z",
     "start_time": "2023-04-29T17:56:03.343136Z"
    }
   },
   "outputs": [
    {
     "data": {
      "text/plain": [
       "[1.842753291130066,\n",
       " 1.1531347036361694,\n",
       " 0.788569450378418,\n",
       " 0.5821607708930969,\n",
       " 0.45612818002700806,\n",
       " 0.37098509073257446,\n",
       " 0.3097356855869293,\n",
       " 0.26459619402885437,\n",
       " 0.23056954145431519,\n",
       " 0.20529547333717346]"
      ]
     },
     "execution_count": 12,
     "metadata": {},
     "output_type": "execute_result"
    }
   ],
   "source": [
    "history.history['val_mae']"
   ]
  },
  {
   "cell_type": "code",
   "execution_count": null,
   "id": "0ba202dd",
   "metadata": {},
   "outputs": [],
   "source": []
  }
 ],
 "metadata": {
  "kernelspec": {
   "display_name": "Python 3 (ipykernel)",
   "language": "python",
   "name": "python3"
  },
  "language_info": {
   "codemirror_mode": {
    "name": "ipython",
    "version": 3
   },
   "file_extension": ".py",
   "mimetype": "text/x-python",
   "name": "python",
   "nbconvert_exporter": "python",
   "pygments_lexer": "ipython3",
   "version": "3.9.12"
  },
  "toc": {
   "base_numbering": 1,
   "nav_menu": {},
   "number_sections": true,
   "sideBar": true,
   "skip_h1_title": false,
   "title_cell": "Table of Contents",
   "title_sidebar": "Contents",
   "toc_cell": false,
   "toc_position": {},
   "toc_section_display": true,
   "toc_window_display": false
  },
  "varInspector": {
   "cols": {
    "lenName": 16,
    "lenType": 16,
    "lenVar": 40
   },
   "kernels_config": {
    "python": {
     "delete_cmd_postfix": "",
     "delete_cmd_prefix": "del ",
     "library": "var_list.py",
     "varRefreshCmd": "print(var_dic_list())"
    },
    "r": {
     "delete_cmd_postfix": ") ",
     "delete_cmd_prefix": "rm(",
     "library": "var_list.r",
     "varRefreshCmd": "cat(var_dic_list()) "
    }
   },
   "types_to_exclude": [
    "module",
    "function",
    "builtin_function_or_method",
    "instance",
    "_Feature"
   ],
   "window_display": false
  }
 },
 "nbformat": 4,
 "nbformat_minor": 5
}

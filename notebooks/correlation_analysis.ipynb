{
 "cells": [
  {
   "cell_type": "code",
   "execution_count": 1,
   "id": "ffc20683",
   "metadata": {
    "ExecuteTime": {
     "end_time": "2023-05-01T21:12:22.892604Z",
     "start_time": "2023-05-01T21:12:22.876046Z"
    }
   },
   "outputs": [],
   "source": [
    "import sys\n",
    "sys.path.append(\"..\")"
   ]
  },
  {
   "cell_type": "code",
   "execution_count": 2,
   "id": "3162c7a6",
   "metadata": {
    "ExecuteTime": {
     "end_time": "2023-05-01T21:12:27.210762Z",
     "start_time": "2023-05-01T21:12:23.162415Z"
    }
   },
   "outputs": [],
   "source": [
    "import numpy as np\n",
    "import pandas as pd\n",
    "import pickle\n",
    "from src.mc.MonteCarlo import MonteCarlo\n",
    "from src.mc.MC import MC_set\n",
    "from src.mc.shape_ext import shape_generator\n",
    "from src.utils import tools as fg\n",
    "from tensorflow import keras"
   ]
  },
  {
   "cell_type": "code",
   "execution_count": 3,
   "id": "e880e5ea",
   "metadata": {
    "ExecuteTime": {
     "end_time": "2023-05-01T21:12:27.334755Z",
     "start_time": "2023-05-01T21:12:27.320064Z"
    }
   },
   "outputs": [],
   "source": [
    "pred_ch0 = np.load(\"../model_predictions/sh06x2/unetPP2481632_sh06x2_ch0__bs_512_m_1280_mse_lr_1e-4_150_DROPOUT0.npy\")\n",
    "pred_ch1 = np.load(\"../model_predictions/sh06x2/unetPP2481632_sh06x2_ch1__bs_512_m_1280_mse_lr_1e-4_150_DROPOUT0.npy\")"
   ]
  },
  {
   "cell_type": "code",
   "execution_count": null,
   "id": "cc7acca1",
   "metadata": {
    "ExecuteTime": {
     "end_time": "2023-05-01T19:11:19.915605Z",
     "start_time": "2023-05-01T19:11:19.905048Z"
    }
   },
   "outputs": [],
   "source": []
  },
  {
   "cell_type": "code",
   "execution_count": 4,
   "id": "3d74864c",
   "metadata": {
    "ExecuteTime": {
     "end_time": "2023-05-01T21:12:27.458736Z",
     "start_time": "2023-05-01T21:12:27.444666Z"
    }
   },
   "outputs": [],
   "source": [
    "pred_ch0 = pred_ch0.reshape(pred_ch0.shape[0], pred_ch0.shape[1])\n",
    "pred_ch1 = pred_ch1.reshape(pred_ch1.shape[0], pred_ch1.shape[1])"
   ]
  },
  {
   "cell_type": "code",
   "execution_count": 5,
   "id": "e73f6463",
   "metadata": {
    "ExecuteTime": {
     "end_time": "2023-05-01T21:12:27.581760Z",
     "start_time": "2023-05-01T21:12:27.567722Z"
    }
   },
   "outputs": [],
   "source": [
    "corr_file_path = \"../DATASETS/sh06x2/lab_ch0_1_shapes_test_CORR_pattern_50\"\n",
    "ch0_path = \"../DATASETS/sh06x2/lab_shapes_test_CH0_ind_50\"\n",
    "ch1_path = \"../DATASETS/sh06x2/lab_shapes_test_CH1_ind_50\""
   ]
  },
  {
   "cell_type": "code",
   "execution_count": 6,
   "id": "e46b85ce",
   "metadata": {
    "ExecuteTime": {
     "end_time": "2023-05-01T21:12:27.704140Z",
     "start_time": "2023-05-01T21:12:27.690413Z"
    }
   },
   "outputs": [],
   "source": [
    "with open(corr_file_path, \"rb\") as f_cor:\n",
    "    cor_f = pickle.load(f_cor)"
   ]
  },
  {
   "cell_type": "code",
   "execution_count": 7,
   "id": "79765aa0",
   "metadata": {
    "ExecuteTime": {
     "end_time": "2023-05-01T21:12:28.355674Z",
     "start_time": "2023-05-01T21:12:28.246619Z"
    }
   },
   "outputs": [],
   "source": [
    "with open(ch0_path, \"rb\") as f_ch0:\n",
    "    ch0_f = pickle.load(f_ch0)\n",
    "    "
   ]
  },
  {
   "cell_type": "code",
   "execution_count": 8,
   "id": "e3aa2405",
   "metadata": {
    "ExecuteTime": {
     "end_time": "2023-05-01T21:12:28.913037Z",
     "start_time": "2023-05-01T21:12:28.898156Z"
    }
   },
   "outputs": [],
   "source": [
    "with open(ch1_path, \"rb\") as f_ch1:\n",
    "    ch1_f = pickle.load(f_ch1)"
   ]
  },
  {
   "cell_type": "code",
   "execution_count": 9,
   "id": "da0198a8",
   "metadata": {
    "ExecuteTime": {
     "end_time": "2023-05-01T21:12:29.582802Z",
     "start_time": "2023-05-01T21:12:29.568170Z"
    }
   },
   "outputs": [],
   "source": [
    "def sub_list_to_list(x0):\n",
    "    x = [item for sublist in x0 for item in sublist]\n",
    "    return x"
   ]
  },
  {
   "cell_type": "code",
   "execution_count": 10,
   "id": "384db43d",
   "metadata": {
    "ExecuteTime": {
     "end_time": "2023-05-01T21:12:30.249159Z",
     "start_time": "2023-05-01T21:12:30.234750Z"
    }
   },
   "outputs": [],
   "source": [
    "cor_ar = np.array(sub_list_to_list(np.array(cor_f)))\n",
    "ch0_ar = np.array(sub_list_to_list(np.array(ch0_f)))\n",
    "ch1_ar = np.array(sub_list_to_list(np.array(ch1_f)))"
   ]
  },
  {
   "cell_type": "code",
   "execution_count": 11,
   "id": "110e7925",
   "metadata": {
    "ExecuteTime": {
     "end_time": "2023-05-01T21:12:31.493904Z",
     "start_time": "2023-05-01T21:12:31.479017Z"
    }
   },
   "outputs": [
    {
     "name": "stdout",
     "output_type": "stream",
     "text": [
      "(960,) (960,) (960,)\n"
     ]
    }
   ],
   "source": [
    "print(cor_ar.shape, ch0_ar.shape, ch1_ar.shape)"
   ]
  },
  {
   "cell_type": "code",
   "execution_count": 12,
   "id": "3750b004",
   "metadata": {
    "ExecuteTime": {
     "end_time": "2023-05-01T21:12:32.738825Z",
     "start_time": "2023-05-01T21:12:32.724968Z"
    }
   },
   "outputs": [
    {
     "name": "stdout",
     "output_type": "stream",
     "text": [
      "(960, 256) (960, 256)\n"
     ]
    }
   ],
   "source": [
    "print(pred_ch0.shape, pred_ch1.shape)"
   ]
  },
  {
   "cell_type": "code",
   "execution_count": 24,
   "id": "40ef9a85",
   "metadata": {
    "ExecuteTime": {
     "end_time": "2023-05-01T21:31:41.477513Z",
     "start_time": "2023-05-01T21:31:41.454215Z"
    }
   },
   "outputs": [],
   "source": [
    "error_counts = []\n",
    "for i in range(cor_ar.shape[0]):\n",
    "    if len(cor_ar[i])==0:\n",
    "        pass\n",
    "    else:\n",
    "        cor_ar1 = cor_ar[i]\n",
    "        ch0_ar1 = ch0_ar[i]\n",
    "        ch1_ar1 = ch1_ar[i]\n",
    "        for j1,j2,j3 in zip(cor_ar1, ch0_ar1, ch1_ar1):\n",
    "            \n",
    "            if j1==1 and j2==j3:\n",
    "                counts.append(pred_ch0[i][j2]-pred_ch1[i][j2])"
   ]
  },
  {
   "cell_type": "markdown",
   "id": "e69cb114",
   "metadata": {},
   "source": [
    "### Plot of prediction error between correlated pulses of two channels"
   ]
  },
  {
   "cell_type": "code",
   "execution_count": 25,
   "id": "ee11bd08",
   "metadata": {
    "ExecuteTime": {
     "end_time": "2023-05-01T21:31:43.012206Z",
     "start_time": "2023-05-01T21:31:42.829181Z"
    }
   },
   "outputs": [
    {
     "data": {
      "text/plain": [
       "(array([4.000e+00, 2.000e+00, 0.000e+00, 2.000e+00, 4.000e+00, 6.000e+00,\n",
       "        2.200e+01, 4.800e+01, 9.800e+01, 1.720e+02, 2.760e+02, 4.600e+02,\n",
       "        7.280e+02, 1.260e+03, 2.632e+03, 8.426e+03, 7.918e+03, 2.338e+03,\n",
       "        1.328e+03, 7.720e+02, 4.480e+02, 2.360e+02, 1.480e+02, 8.600e+01,\n",
       "        2.800e+01, 1.200e+01, 1.200e+01, 6.000e+00, 4.000e+00, 1.000e+01]),\n",
       " array([-2.5021522e+00, -2.3456919e+00, -2.1892319e+00, -2.0327716e+00,\n",
       "        -1.8763113e+00, -1.7198511e+00, -1.5633910e+00, -1.4069307e+00,\n",
       "        -1.2504705e+00, -1.0940102e+00, -9.3755007e-01, -7.8108984e-01,\n",
       "        -6.2462962e-01, -4.6816942e-01, -3.1170923e-01, -1.5524900e-01,\n",
       "         1.2112141e-03,  1.5767142e-01,  3.1413165e-01,  4.7059184e-01,\n",
       "         6.2705207e-01,  7.8351229e-01,  9.3997252e-01,  1.0964327e+00,\n",
       "         1.2528930e+00,  1.4093531e+00,  1.5658133e+00,  1.7222736e+00,\n",
       "         1.8787338e+00,  2.0351939e+00,  2.1916542e+00], dtype=float32),\n",
       " <BarContainer object of 30 artists>)"
      ]
     },
     "execution_count": 25,
     "metadata": {},
     "output_type": "execute_result"
    },
    {
     "data": {
      "image/png": "[encoded data removed]",
      "text/plain": [
       "<Figure size 432x288 with 1 Axes>"
      ]
     },
     "metadata": {
      "needs_background": "light"
     },
     "output_type": "display_data"
    }
   ],
   "source": [
    "import matplotlib.pyplot as plt\n",
    "plt.hist(counts, bins=30)"
   ]
  },
  {
   "cell_type": "code",
   "execution_count": null,
   "id": "afa2b707",
   "metadata": {},
   "outputs": [],
   "source": []
  }
 ],
 "metadata": {
  "kernelspec": {
   "display_name": "Python 3 (ipykernel)",
   "language": "python",
   "name": "python3"
  },
  "language_info": {
   "codemirror_mode": {
    "name": "ipython",
    "version": 3
   },
   "file_extension": ".py",
   "mimetype": "text/x-python",
   "name": "python",
   "nbconvert_exporter": "python",
   "pygments_lexer": "ipython3",
   "version": "3.9.12"
  },
  "toc": {
   "base_numbering": 1,
   "nav_menu": {},
   "number_sections": true,
   "sideBar": true,
   "skip_h1_title": false,
   "title_cell": "Table of Contents",
   "title_sidebar": "Contents",
   "toc_cell": false,
   "toc_position": {},
   "toc_section_display": true,
   "toc_window_display": false
  },
  "varInspector": {
   "cols": {
    "lenName": 16,
    "lenType": 16,
    "lenVar": 40
   },
   "kernels_config": {
    "python": {
     "delete_cmd_postfix": "",
     "delete_cmd_prefix": "del ",
     "library": "var_list.py",
     "varRefreshCmd": "print(var_dic_list())"
    },
    "r": {
     "delete_cmd_postfix": ") ",
     "delete_cmd_prefix": "rm(",
     "library": "var_list.r",
     "varRefreshCmd": "cat(var_dic_list()) "
    }
   },
   "types_to_exclude": [
    "module",
    "function",
    "builtin_function_or_method",
    "instance",
    "_Feature"
   ],
   "window_display": false
  }
 },
 "nbformat": 4,
 "nbformat_minor": 5
}

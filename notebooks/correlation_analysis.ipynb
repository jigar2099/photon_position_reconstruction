{
 "cells": [
  {
   "cell_type": "code",
   "execution_count": 1,
   "id": "ffc20683",
   "metadata": {
    "ExecuteTime": {
     "end_time": "2023-04-30T18:41:29.218981Z",
     "start_time": "2023-04-30T18:41:29.216447Z"
    }
   },
   "outputs": [],
   "source": [
    "import sys\n",
    "sys.path.append(\"..\")"
   ]
  },
  {
   "cell_type": "code",
   "execution_count": 2,
   "id": "3162c7a6",
   "metadata": {
    "ExecuteTime": {
     "end_time": "2023-04-30T18:41:33.722318Z",
     "start_time": "2023-04-30T18:41:29.494659Z"
    }
   },
   "outputs": [],
   "source": [
    "import numpy as np\n",
    "import pandas as pd\n",
    "import pickle\n",
    "from src.mc.MonteCarlo import MonteCarlo\n",
    "from src.mc.MC import MC_set\n",
    "from src.mc.shape_ext import shape_generator\n",
    "from src.utils import tools as fg\n",
    "from tensorflow import keras"
   ]
  },
  {
   "cell_type": "code",
   "execution_count": 3,
   "id": "e880e5ea",
   "metadata": {
    "ExecuteTime": {
     "end_time": "2023-04-30T18:41:33.750487Z",
     "start_time": "2023-04-30T18:41:33.745965Z"
    }
   },
   "outputs": [],
   "source": [
    "pred_ch0 = np.load(\"../model_predictions/sh06x2/unetPP2481632_sh06x2_ch0__bs_512_m_1280_mse_lr_1e-4_150_DROPOUT0.npy\")\n",
    "pred_ch1 = np.load(\"../model_predictions/sh06x2/unetPP2481632_sh06x2_ch1__bs_512_m_1280_mse_lr_1e-4_150_DROPOUT0.npy\")"
   ]
  },
  {
   "cell_type": "code",
   "execution_count": 4,
   "id": "e3aa2405",
   "metadata": {
    "ExecuteTime": {
     "end_time": "2023-04-30T18:41:33.891756Z",
     "start_time": "2023-04-30T18:41:33.778831Z"
    }
   },
   "outputs": [],
   "source": [
    "corr_file_path = \"../DATASETS/sh06x2/lab_ch0_1_shapes_test_CORR_pattern_50\"\n",
    "ch0_path = \"../DATASETS/sh06x2/lab_shapes_test_CH0_ind_50\"\n",
    "ch1_path = \"../DATASETS/sh06x2/lab_shapes_test_CH1_ind_50\"\n",
    "with open(corr_file_path, \"rb\") as f_cor:\n",
    "    cor_f = pickle.load(f_cor)\n",
    "with open(ch0_path, \"rb\") as f_ch0:\n",
    "    ch0_f = pickle.load(f_ch0)\n",
    "with open(ch1_path, \"rb\") as f_ch1:\n",
    "    ch1_f = pickle.load(f_ch1)"
   ]
  },
  {
   "cell_type": "code",
   "execution_count": 5,
   "id": "03912b55",
   "metadata": {
    "ExecuteTime": {
     "end_time": "2023-04-30T18:41:34.304615Z",
     "start_time": "2023-04-30T18:41:34.300626Z"
    }
   },
   "outputs": [],
   "source": [
    "cor_ar = np.array(cor_f)\n",
    "ch0_ar = np.array(ch0_f)\n",
    "ch1_ar = np.array(ch1_f)"
   ]
  },
  {
   "cell_type": "code",
   "execution_count": 6,
   "id": "110e7925",
   "metadata": {
    "ExecuteTime": {
     "end_time": "2023-04-30T18:41:35.137489Z",
     "start_time": "2023-04-30T18:41:35.133500Z"
    }
   },
   "outputs": [
    {
     "name": "stdout",
     "output_type": "stream",
     "text": [
      "(60, 16) (60, 16) (60, 16)\n"
     ]
    }
   ],
   "source": [
    "print(cor_ar.shape, ch0_ar.shape, ch1_ar.shape)"
   ]
  },
  {
   "cell_type": "code",
   "execution_count": 7,
   "id": "3750b004",
   "metadata": {
    "ExecuteTime": {
     "end_time": "2023-04-30T18:41:36.001493Z",
     "start_time": "2023-04-30T18:41:35.996586Z"
    }
   },
   "outputs": [
    {
     "data": {
      "text/plain": [
       "array([array([], dtype=int32), array([], dtype=int32),\n",
       "       array([], dtype=int32), array([], dtype=int32),\n",
       "       array([], dtype=int32), array([], dtype=int32),\n",
       "       array([], dtype=int32), array([], dtype=int32),\n",
       "       array([], dtype=int32), array([], dtype=int32),\n",
       "       array([], dtype=int32), array([], dtype=int32),\n",
       "       array([], dtype=int32), array([], dtype=int32),\n",
       "       array([], dtype=int32), array([], dtype=int32)], dtype=object)"
      ]
     },
     "execution_count": 7,
     "metadata": {},
     "output_type": "execute_result"
    }
   ],
   "source": [
    "cor_ar[0]"
   ]
  },
  {
   "cell_type": "code",
   "execution_count": 8,
   "id": "aff1524f",
   "metadata": {
    "ExecuteTime": {
     "end_time": "2023-04-30T18:41:37.257853Z",
     "start_time": "2023-04-30T18:41:36.874506Z"
    }
   },
   "outputs": [
    {
     "ename": "IndexError",
     "evalue": "index 256 is out of bounds for axis 0 with size 256",
     "output_type": "error",
     "traceback": [
      "\u001b[1;31m---------------------------------------------------------------------------\u001b[0m",
      "\u001b[1;31mIndexError\u001b[0m                                Traceback (most recent call last)",
      "Input \u001b[1;32mIn [8]\u001b[0m, in \u001b[0;36m<cell line: 1>\u001b[1;34m()\u001b[0m\n\u001b[0;32m     17\u001b[0m ch1_ar3 \u001b[38;5;241m=\u001b[39m ch1_ar2[k]\n\u001b[0;32m     18\u001b[0m \u001b[38;5;66;03m#pred_ch03 = pred_ch02[k]\u001b[39;00m\n\u001b[0;32m     19\u001b[0m \u001b[38;5;66;03m#pred_ch13 = pred_ch12[k]\u001b[39;00m\n\u001b[0;32m     20\u001b[0m \u001b[38;5;66;03m#print(ch0_ar3)\u001b[39;00m\n\u001b[1;32m---> 21\u001b[0m pred_ch0_val \u001b[38;5;241m=\u001b[39m \u001b[43mpred_ch0\u001b[49m\u001b[43m[\u001b[49m\u001b[43mi\u001b[49m\u001b[43m]\u001b[49m\u001b[43m[\u001b[49m\u001b[43mch0_ar3\u001b[49m\u001b[43m]\u001b[49m\n\u001b[0;32m     22\u001b[0m pred_ch1_val \u001b[38;5;241m=\u001b[39m pred_ch1[i][ch1_ar3]\n",
      "\u001b[1;31mIndexError\u001b[0m: index 256 is out of bounds for axis 0 with size 256"
     ]
    }
   ],
   "source": [
    "for i in range(1, int(cor_ar.shape[0]/4)):\n",
    "    cor_ar1 = cor_ar[i]\n",
    "    ch0_ar1 = ch0_ar[i]\n",
    "    ch1_ar1 = ch1_ar[i]\n",
    "    #pred_ch01=pred_ch0[i]\n",
    "    #pred_ch11=pred_ch1[i]\n",
    "    for j in range(len(cor_ar1)):\n",
    "        cor_ar2 = cor_ar1[j]\n",
    "        ch0_ar2 = ch0_ar1[j]\n",
    "        ch1_ar2 = ch1_ar1[j]\n",
    "        #pred_ch02 = pred_ch01[j]\n",
    "        #pred_ch12 = pred_ch11[j]\n",
    "        for k in range(len(cor_ar2)):\n",
    "            if cor_ar2[k]==1:\n",
    "                corr_ar3 = cor_ar2[k]\n",
    "                ch0_ar3 = ch0_ar2[k]\n",
    "                ch1_ar3 = ch1_ar2[k]\n",
    "                #pred_ch03 = pred_ch02[k]\n",
    "                #pred_ch13 = pred_ch12[k]\n",
    "                #print(ch0_ar3)\n",
    "                pred_ch0_val = pred_ch0[i][ch0_ar3]\n",
    "                pred_ch1_val = pred_ch1[i][ch1_ar3]\n",
    "                #print(pred_ch0_val.shape)\n",
    "                #print(pred_ch0_val,pred_ch1_val)"
   ]
  },
  {
   "cell_type": "code",
   "execution_count": 13,
   "id": "34d01014",
   "metadata": {
    "ExecuteTime": {
     "end_time": "2023-04-30T13:50:58.729394Z",
     "start_time": "2023-04-30T13:50:58.715987Z"
    }
   },
   "outputs": [
    {
     "data": {
      "text/plain": [
       "'--------------------------------------------------'"
      ]
     },
     "execution_count": 13,
     "metadata": {},
     "output_type": "execute_result"
    }
   ],
   "source": [
    "'-'*50"
   ]
  },
  {
   "cell_type": "code",
   "execution_count": null,
   "id": "40ef9a85",
   "metadata": {},
   "outputs": [],
   "source": []
  }
 ],
 "metadata": {
  "kernelspec": {
   "display_name": "Python 3 (ipykernel)",
   "language": "python",
   "name": "python3"
  },
  "language_info": {
   "codemirror_mode": {
    "name": "ipython",
    "version": 3
   },
   "file_extension": ".py",
   "mimetype": "text/x-python",
   "name": "python",
   "nbconvert_exporter": "python",
   "pygments_lexer": "ipython3",
   "version": "3.9.12"
  },
  "toc": {
   "base_numbering": 1,
   "nav_menu": {},
   "number_sections": true,
   "sideBar": true,
   "skip_h1_title": false,
   "title_cell": "Table of Contents",
   "title_sidebar": "Contents",
   "toc_cell": false,
   "toc_position": {},
   "toc_section_display": true,
   "toc_window_display": false
  },
  "varInspector": {
   "cols": {
    "lenName": 16,
    "lenType": 16,
    "lenVar": 40
   },
   "kernels_config": {
    "python": {
     "delete_cmd_postfix": "",
     "delete_cmd_prefix": "del ",
     "library": "var_list.py",
     "varRefreshCmd": "print(var_dic_list())"
    },
    "r": {
     "delete_cmd_postfix": ") ",
     "delete_cmd_prefix": "rm(",
     "library": "var_list.r",
     "varRefreshCmd": "cat(var_dic_list()) "
    }
   },
   "types_to_exclude": [
    "module",
    "function",
    "builtin_function_or_method",
    "instance",
    "_Feature"
   ],
   "window_display": false
  }
 },
 "nbformat": 4,
 "nbformat_minor": 5
}
